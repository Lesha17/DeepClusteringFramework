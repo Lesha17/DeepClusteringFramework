{
 "cells": [
  {
   "cell_type": "code",
   "execution_count": 17,
   "metadata": {},
   "outputs": [],
   "source": [
    "from clustering_tool.autoencoder import *\n",
    "from clustering_tool.datasets import *\n",
    "from clustering_tool.train import *\n",
    "from clustering_tool.clusterer import *\n",
    "from clustering_tool.model import *"
   ]
  },
  {
   "cell_type": "code",
   "execution_count": 10,
   "metadata": {},
   "outputs": [],
   "source": [
    "device='cpu'\n",
    "if torch.cuda.is_available():\n",
    "    device='cuda'"
   ]
  },
  {
   "cell_type": "code",
   "execution_count": 11,
   "metadata": {},
   "outputs": [
    {
     "data": {
      "text/plain": [
       "'cpu'"
      ]
     },
     "execution_count": 11,
     "metadata": {},
     "output_type": "execute_result"
    }
   ],
   "source": [
    "device"
   ]
  },
  {
   "cell_type": "code",
   "execution_count": 22,
   "metadata": {},
   "outputs": [],
   "source": [
    "def train_ae(dataset_name, num_clusters, emb_name):\n",
    "    print('Training on ', dataset_name, emb_name)\n",
    "    dataloader = read_saved('data/{}_{}.npy'.format(dataset_name, emb_name), 'data/{}_label.npy'.format(dataset_name), device=device)\n",
    "    input_size = dataloader.dataset[0]['input'].shape[0]\n",
    "    encoder=createEncoder(input_size).to(device)\n",
    "    decoder=createDecoder(input_size).to(device)\n",
    "    losses = {'decoder_loss': constant_loss_weight_fn(1.0)}\n",
    "    start_lr = 3e-3\n",
    "    end_lr = 1e-4\n",
    "    num_epochs = 10\n",
    "    gamma = (end_lr / start_lr) ** (1/num_epochs)\n",
    "    train_autoencoder(encoder, decoder, dataloader, losses, start_lr, gamma=gamma, num_epochs=num_epochs)\n",
    "    \n",
    "    cluster_centers = init_cluster_centers(encoder, dataloader, num_clusters)\n",
    "    clusterer = XieClusterer(torch.tensor(cluster_centers, requires_grad=True, device=device), trainable_centers=True)\n",
    "    model = DeepClusteringModel(encoder, clusterer, decoder=decoder)\n",
    "    torch.save(model, 'models/{}_{}_ae.pt'.format(dataset_name, emb_name))\n",
    "    "
   ]
  },
  {
   "cell_type": "code",
   "execution_count": 23,
   "metadata": {},
   "outputs": [
    {
     "data": {
      "image/png": "[encoded data removed]",
      "text/plain": [
       "<Figure size 432x288 with 1 Axes>"
      ]
     },
     "metadata": {
      "needs_background": "light"
     },
     "output_type": "display_data"
    },
    {
     "name": "stderr",
     "output_type": "stream",
     "text": [
      "100%|██████████| 10/10 [00:23<00:00,  2.36s/it]\n"
     ]
    },
    {
     "data": {
      "application/vnd.jupyter.widget-view+json": {
       "model_id": "2fab394669b1480d89cf05a08ee7576e",
       "version_major": 2,
       "version_minor": 0
      },
      "text/plain": [
       "HBox(children=(FloatProgress(value=0.0, max=49.0), HTML(value='')))"
      ]
     },
     "metadata": {},
     "output_type": "display_data"
    },
    {
     "name": "stdout",
     "output_type": "stream",
     "text": [
      "\n"
     ]
    },
    {
     "data": {
      "application/vnd.jupyter.widget-view+json": {
       "model_id": "e258fe801d78441ab9b1e68be21e8940",
       "version_major": 2,
       "version_minor": 0
      },
      "text/plain": [
       "HBox(children=(FloatProgress(value=0.0, max=10.0), HTML(value='')))"
      ]
     },
     "metadata": {},
     "output_type": "display_data"
    },
    {
     "name": "stdout",
     "output_type": "stream",
     "text": [
      "\n",
      "Average: 6764.178444778471 Best:  6764.099735783981\n"
     ]
    },
    {
     "name": "stderr",
     "output_type": "stream",
     "text": [
      "/Users/17aleshka/opt/anaconda3/envs/torch_env/lib/python3.7/site-packages/ipykernel_launcher.py:15: UserWarning: To copy construct from a tensor, it is recommended to use sourceTensor.clone().detach() or sourceTensor.clone().detach().requires_grad_(True), rather than torch.tensor(sourceTensor).\n",
      "  from ipykernel import kernelapp as app\n"
     ]
    }
   ],
   "source": [
    "train_ae('SearchSnippets', 8, 'word2vec_md_weighted')"
   ]
  },
  {
   "cell_type": "code",
   "execution_count": null,
   "metadata": {},
   "outputs": [],
   "source": [
    "datasets_n_clusters = [('SearchSnippets', 8), ('Biomedical', 20), ('StackOverflow', 20)]\n",
    "emb_types = ['tf_idf', 'word2vec_md_avg', 'word2vec_lg_avg', 'word2vec_md_weighted','word2vec_lg_weighted', \n",
    "             'bert_avg', 'bert_cls', 'bert_pooler', 'bert_pooler']\n",
    "for dataset_name, n_clusters in datasets_n_clusters:\n",
    "    for emb_type in emb_types:\n",
    "        train_ae(dataset_name, n_clusters, emb_type)"
   ]
  }
 ],
 "metadata": {
  "kernelspec": {
   "display_name": "Python 3",
   "language": "python",
   "name": "python3"
  },
  "language_info": {
   "codemirror_mode": {
    "name": "ipython",
    "version": 3
   },
   "file_extension": ".py",
   "mimetype": "text/x-python",
   "name": "python",
   "nbconvert_exporter": "python",
   "pygments_lexer": "ipython3",
   "version": "3.7.7"
  }
 },
 "nbformat": 4,
 "nbformat_minor": 4
}
